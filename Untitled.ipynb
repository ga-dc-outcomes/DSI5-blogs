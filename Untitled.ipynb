{
 "cells": [
  {
   "cell_type": "code",
   "execution_count": 76,
   "metadata": {
    "collapsed": true
   },
   "outputs": [],
   "source": [
    "import pandas as pd\n",
    "import datetime as dt\n",
    "import re\n",
    "import matplotlib.pyplot as plt"
   ]
  },
  {
   "cell_type": "code",
   "execution_count": 32,
   "metadata": {},
   "outputs": [
    {
     "data": {
      "text/html": [
       "<div>\n",
       "<style>\n",
       "    .dataframe thead tr:only-child th {\n",
       "        text-align: right;\n",
       "    }\n",
       "\n",
       "    .dataframe thead th {\n",
       "        text-align: left;\n",
       "    }\n",
       "\n",
       "    .dataframe tbody tr th {\n",
       "        vertical-align: top;\n",
       "    }\n",
       "</style>\n",
       "<table border=\"1\" class=\"dataframe\">\n",
       "  <thead>\n",
       "    <tr style=\"text-align: right;\">\n",
       "      <th></th>\n",
       "      <th>ID</th>\n",
       "      <th>First Name</th>\n",
       "      <th>Second Name</th>\n",
       "      <th>Height, ft</th>\n",
       "      <th>Eyecolor</th>\n",
       "      <th>Hair color</th>\n",
       "      <th>Sex</th>\n",
       "    </tr>\n",
       "  </thead>\n",
       "  <tbody>\n",
       "    <tr>\n",
       "      <th>0</th>\n",
       "      <td>1</td>\n",
       "      <td>Leonardo</td>\n",
       "      <td>Davinci</td>\n",
       "      <td>6.0</td>\n",
       "      <td>hazel</td>\n",
       "      <td>black</td>\n",
       "      <td>m</td>\n",
       "    </tr>\n",
       "    <tr>\n",
       "      <th>1</th>\n",
       "      <td>2</td>\n",
       "      <td>Boris</td>\n",
       "      <td>Dranko</td>\n",
       "      <td>6.0</td>\n",
       "      <td>blue</td>\n",
       "      <td>dirty blond</td>\n",
       "      <td>m</td>\n",
       "    </tr>\n",
       "    <tr>\n",
       "      <th>2</th>\n",
       "      <td>3</td>\n",
       "      <td>Emanuel</td>\n",
       "      <td>Wolfgang</td>\n",
       "      <td>5.8</td>\n",
       "      <td>blue</td>\n",
       "      <td>red</td>\n",
       "      <td>m</td>\n",
       "    </tr>\n",
       "    <tr>\n",
       "      <th>3</th>\n",
       "      <td>4</td>\n",
       "      <td>Fidel</td>\n",
       "      <td>_astro</td>\n",
       "      <td>5.5</td>\n",
       "      <td>brown</td>\n",
       "      <td>black</td>\n",
       "      <td>m</td>\n",
       "    </tr>\n",
       "    <tr>\n",
       "      <th>4</th>\n",
       "      <td>5</td>\n",
       "      <td>Eleanor</td>\n",
       "      <td>Schmidt</td>\n",
       "      <td>6.2</td>\n",
       "      <td>green</td>\n",
       "      <td>blond</td>\n",
       "      <td>f</td>\n",
       "    </tr>\n",
       "    <tr>\n",
       "      <th>5</th>\n",
       "      <td>6</td>\n",
       "      <td>Feng</td>\n",
       "      <td>Feng</td>\n",
       "      <td>6.0</td>\n",
       "      <td>brown</td>\n",
       "      <td>grey</td>\n",
       "      <td>f</td>\n",
       "    </tr>\n",
       "  </tbody>\n",
       "</table>\n",
       "</div>"
      ],
      "text/plain": [
       "   ID First Name Second Name  Height, ft Eyecolor   Hair color Sex\n",
       "0   1   Leonardo     Davinci         6.0    hazel        black   m\n",
       "1   2      Boris      Dranko         6.0     blue  dirty blond   m\n",
       "2   3    Emanuel    Wolfgang         5.8     blue          red   m\n",
       "3   4      Fidel      _astro         5.5    brown        black   m\n",
       "4   5    Eleanor     Schmidt         6.2    green        blond   f\n",
       "5   6       Feng        Feng         6.0    brown         grey   f"
      ]
     },
     "execution_count": 32,
     "metadata": {},
     "output_type": "execute_result"
    }
   ],
   "source": [
    "a = pd.read_csv('sql_blog.csv')\n",
    "a"
   ]
  },
  {
   "cell_type": "code",
   "execution_count": null,
   "metadata": {},
   "outputs": [],
   "source": []
  },
  {
   "cell_type": "code",
   "execution_count": 69,
   "metadata": {},
   "outputs": [],
   "source": [
    "b = pd.read_csv('../../../data_projects/homelessness/2007-2016-Homelessnewss-USA.csv')"
   ]
  },
  {
   "cell_type": "code",
   "execution_count": 70,
   "metadata": {},
   "outputs": [
    {
     "data": {
      "text/plain": [
       "(86529, 6)"
      ]
     },
     "execution_count": 70,
     "metadata": {},
     "output_type": "execute_result"
    }
   ],
   "source": [
    "b.Year = pd.to_datetime(b.Year,infer_datetime_format=True)\n",
    "b.Year = b.Year.dt.year\n",
    "b.head()\n",
    "b.shape"
   ]
  },
  {
   "cell_type": "code",
   "execution_count": 123,
   "metadata": {},
   "outputs": [
    {
     "data": {
      "text/html": [
       "<div>\n",
       "<style>\n",
       "    .dataframe thead tr:only-child th {\n",
       "        text-align: right;\n",
       "    }\n",
       "\n",
       "    .dataframe thead th {\n",
       "        text-align: left;\n",
       "    }\n",
       "\n",
       "    .dataframe tbody tr th {\n",
       "        vertical-align: top;\n",
       "    }\n",
       "</style>\n",
       "<table border=\"1\" class=\"dataframe\">\n",
       "  <thead>\n",
       "    <tr style=\"text-align: right;\">\n",
       "      <th></th>\n",
       "      <th>Year</th>\n",
       "      <th>State</th>\n",
       "      <th>CoC Number</th>\n",
       "      <th>CoC Name</th>\n",
       "      <th>Measures</th>\n",
       "      <th>Count</th>\n",
       "    </tr>\n",
       "  </thead>\n",
       "  <tbody>\n",
       "    <tr>\n",
       "      <th>0</th>\n",
       "      <td>2007</td>\n",
       "      <td>AK</td>\n",
       "      <td>AK-500</td>\n",
       "      <td>Anchorage CoC</td>\n",
       "      <td>Chronically Homeless Individuals</td>\n",
       "      <td>224</td>\n",
       "    </tr>\n",
       "    <tr>\n",
       "      <th>1</th>\n",
       "      <td>2007</td>\n",
       "      <td>AK</td>\n",
       "      <td>AK-500</td>\n",
       "      <td>Anchorage CoC</td>\n",
       "      <td>Homeless Individuals</td>\n",
       "      <td>696</td>\n",
       "    </tr>\n",
       "    <tr>\n",
       "      <th>2</th>\n",
       "      <td>2007</td>\n",
       "      <td>AK</td>\n",
       "      <td>AK-500</td>\n",
       "      <td>Anchorage CoC</td>\n",
       "      <td>Homeless People in Families</td>\n",
       "      <td>278</td>\n",
       "    </tr>\n",
       "    <tr>\n",
       "      <th>3</th>\n",
       "      <td>2007</td>\n",
       "      <td>AK</td>\n",
       "      <td>AK-500</td>\n",
       "      <td>Anchorage CoC</td>\n",
       "      <td>Sheltered Chronically Homeless Individuals</td>\n",
       "      <td>187</td>\n",
       "    </tr>\n",
       "    <tr>\n",
       "      <th>4</th>\n",
       "      <td>2007</td>\n",
       "      <td>AK</td>\n",
       "      <td>AK-500</td>\n",
       "      <td>Anchorage CoC</td>\n",
       "      <td>Sheltered Homeless</td>\n",
       "      <td>842</td>\n",
       "    </tr>\n",
       "    <tr>\n",
       "      <th>5</th>\n",
       "      <td>2007</td>\n",
       "      <td>AK</td>\n",
       "      <td>AK-500</td>\n",
       "      <td>Anchorage CoC</td>\n",
       "      <td>Sheltered Homeless Individuals</td>\n",
       "      <td>589</td>\n",
       "    </tr>\n",
       "    <tr>\n",
       "      <th>6</th>\n",
       "      <td>2007</td>\n",
       "      <td>AK</td>\n",
       "      <td>AK-500</td>\n",
       "      <td>Anchorage CoC</td>\n",
       "      <td>Sheltered Homeless People in Families</td>\n",
       "      <td>253</td>\n",
       "    </tr>\n",
       "    <tr>\n",
       "      <th>7</th>\n",
       "      <td>2007</td>\n",
       "      <td>AK</td>\n",
       "      <td>AK-500</td>\n",
       "      <td>Anchorage CoC</td>\n",
       "      <td>Total Homeless</td>\n",
       "      <td>974</td>\n",
       "    </tr>\n",
       "  </tbody>\n",
       "</table>\n",
       "</div>"
      ],
      "text/plain": [
       "   Year State CoC Number       CoC Name  \\\n",
       "0  2007    AK     AK-500  Anchorage CoC   \n",
       "1  2007    AK     AK-500  Anchorage CoC   \n",
       "2  2007    AK     AK-500  Anchorage CoC   \n",
       "3  2007    AK     AK-500  Anchorage CoC   \n",
       "4  2007    AK     AK-500  Anchorage CoC   \n",
       "5  2007    AK     AK-500  Anchorage CoC   \n",
       "6  2007    AK     AK-500  Anchorage CoC   \n",
       "7  2007    AK     AK-500  Anchorage CoC   \n",
       "\n",
       "                                     Measures  Count  \n",
       "0            Chronically Homeless Individuals    224  \n",
       "1                        Homeless Individuals    696  \n",
       "2                 Homeless People in Families    278  \n",
       "3  Sheltered Chronically Homeless Individuals    187  \n",
       "4                          Sheltered Homeless    842  \n",
       "5              Sheltered Homeless Individuals    589  \n",
       "6       Sheltered Homeless People in Families    253  \n",
       "7                              Total Homeless    974  "
      ]
     },
     "execution_count": 123,
     "metadata": {},
     "output_type": "execute_result"
    }
   ],
   "source": [
    "b.head(8)"
   ]
  },
  {
   "cell_type": "code",
   "execution_count": 126,
   "metadata": {},
   "outputs": [
    {
     "data": {
      "text/plain": [
       "Year\n",
       "2007    647258\n",
       "2008    639784\n",
       "2009    630227\n",
       "2010    637077\n",
       "2011    623788\n",
       "2012    621553\n",
       "2013    590364\n",
       "2014    576450\n",
       "2015    564708\n",
       "2016    549928\n",
       "Name: Count, dtype: int64"
      ]
     },
     "execution_count": 126,
     "metadata": {},
     "output_type": "execute_result"
    }
   ],
   "source": [
    "b[b.Measures == 'Total Homeless'].groupby(\"Year\").Count.sum()"
   ]
  },
  {
   "cell_type": "code",
   "execution_count": 128,
   "metadata": {},
   "outputs": [
    {
     "data": {
      "image/png": "[encoded data removed]",
      "text/plain": [
       "<matplotlib.figure.Figure at 0x119de1d10>"
      ]
     },
     "metadata": {},
     "output_type": "display_data"
    }
   ],
   "source": [
    "Sub_ = pd.DataFrame(b[(b.Measures == 'Total Homeless')&(b.State == \"CA\")].groupby('Year').Count.sum())\n",
    "Sub_.plot(legend=\"Number of Homeless in state of California\",figsize=(8,6),fontsize=14)\n",
    "plt.show()"
   ]
  },
  {
   "cell_type": "code",
   "execution_count": 139,
   "metadata": {},
   "outputs": [
    {
     "data": {
      "text/plain": [
       "Year\n",
       "2015    4667\n",
       "2016    3824\n",
       "Name: Count, dtype: int64"
      ]
     },
     "execution_count": 139,
     "metadata": {},
     "output_type": "execute_result"
    }
   ],
   "source": [
    "z = b[(b.Year == 2016)&(b.Measures == \"Total Homeless\")].Count.sum()\n",
    "b[b.Measures == \"Homeless Unaccompanied Children (Under 18)\"].groupby(\"Year\").Count.sum()"
   ]
  },
  {
   "cell_type": "code",
   "execution_count": 129,
   "metadata": {},
   "outputs": [
    {
     "data": {
      "image/png": "[encoded data removed]",
      "text/plain": [
       "<matplotlib.figure.Figure at 0x119aca8d0>"
      ]
     },
     "metadata": {},
     "output_type": "display_data"
    }
   ],
   "source": [
    "Sub_ = pd.DataFrame(b[(b.Measures == 'Sheltered Homeless')].groupby('Year').Count.sum())\n",
    "Sub_.plot(legend=\"Number of Homeless in state of California\",figsize=(8,6),fontsize=14)\n",
    "plt.show()"
   ]
  },
  {
   "cell_type": "code",
   "execution_count": null,
   "metadata": {
    "collapsed": true
   },
   "outputs": [],
   "source": []
  },
  {
   "cell_type": "code",
   "execution_count": 120,
   "metadata": {},
   "outputs": [
    {
     "data": {
      "text/plain": [
       "['Children of Parenting Youth',\n",
       " 'Chronically Homeless',\n",
       " 'Chronically Homeless Individuals',\n",
       " 'Chronically Homeless People in Families',\n",
       " 'Homeless Individuals',\n",
       " 'Homeless People in Families',\n",
       " 'Homeless Unaccompanied Children (Under 18)',\n",
       " 'Homeless Unaccompanied Young Adults (Age 18-24)',\n",
       " 'Homeless Unaccompanied Youth (Under 25)',\n",
       " 'Homeless Veterans',\n",
       " 'Parenting Youth (Under 25)',\n",
       " 'Parenting Youth Age 18-24',\n",
       " 'Parenting Youth Under 18',\n",
       " 'Sheltered Children of Parenting Youth',\n",
       " 'Sheltered Chronically Homeless',\n",
       " 'Sheltered Chronically Homeless Individuals',\n",
       " 'Sheltered Chronically Homeless People in Families',\n",
       " 'Sheltered Homeless',\n",
       " 'Sheltered Homeless Individuals',\n",
       " 'Sheltered Homeless People in Families',\n",
       " 'Sheltered Homeless Unaccompanied Children (Under 18)',\n",
       " 'Sheltered Homeless Unaccompanied Young Adults (Age 18-24)',\n",
       " 'Sheltered Homeless Unaccompanied Youth (Under 25)',\n",
       " 'Sheltered Homeless Veterans',\n",
       " 'Sheltered Parenting Youth (Under 25)',\n",
       " 'Sheltered Parenting Youth Age 18-24',\n",
       " 'Sheltered Parenting Youth Under 18',\n",
       " 'Total Homeless',\n",
       " 'Unsheltered Children of Parenting Youth',\n",
       " 'Unsheltered Chronically Homeless',\n",
       " 'Unsheltered Chronically Homeless Individuals',\n",
       " 'Unsheltered Chronically Homeless People in Families',\n",
       " 'Unsheltered Homeless',\n",
       " 'Unsheltered Homeless Individuals',\n",
       " 'Unsheltered Homeless People in Families',\n",
       " 'Unsheltered Homeless Unaccompanied Children (Under 18)',\n",
       " 'Unsheltered Homeless Unaccompanied Young Adults (Age 18-24)',\n",
       " 'Unsheltered Homeless Unaccompanied Youth (Under 25)',\n",
       " 'Unsheltered Homeless Veterans',\n",
       " 'Unsheltered Parenting Youth (Under 25)',\n",
       " 'Unsheltered Parenting Youth Age 18-24',\n",
       " 'Unsheltered Parenting Youth Under 18']"
      ]
     },
     "execution_count": 120,
     "metadata": {},
     "output_type": "execute_result"
    }
   ],
   "source": [
    "sorted(b.Measures.unique())"
   ]
  },
  {
   "cell_type": "code",
   "execution_count": null,
   "metadata": {
    "collapsed": true
   },
   "outputs": [],
   "source": []
  }
 ],
 "metadata": {
  "kernelspec": {
   "display_name": "Python 2",
   "language": "python",
   "name": "python2"
  },
  "language_info": {
   "codemirror_mode": {
    "name": "ipython",
    "version": 2
   },
   "file_extension": ".py",
   "mimetype": "text/x-python",
   "name": "python",
   "nbconvert_exporter": "python",
   "pygments_lexer": "ipython2",
   "version": "2.7.13"
  }
 },
 "nbformat": 4,
 "nbformat_minor": 2
}
